{
 "cells": [
  {
   "cell_type": "code",
   "execution_count": 2,
   "metadata": {},
   "outputs": [],
   "source": [
    "# pip install owslib\n",
    "from owslib.wms import WebMapService"
   ]
  },
  {
   "cell_type": "code",
   "execution_count": 3,
   "metadata": {},
   "outputs": [],
   "source": [
    "# Specify the WMS service URL\n",
    "wms_url = 'https://wxs.ign.fr/ortho/geoportail/r/wms?SERVICE=WMS&VERSION=1.3.0&REQUEST=GetCapabilities'\n",
    "\n",
    "# Connect to the WMS service\n",
    "wms = WebMapService(wms_url)\n",
    "\n",
    "# Techninal name of the layer\n",
    "layer_name = \"HR.ORTHOIMAGERY.ORTHOPHOTOS\""
   ]
  },
  {
   "cell_type": "code",
   "execution_count": 4,
   "metadata": {},
   "outputs": [],
   "source": [
    "def get_image(Xmin,Ymin,image_size=500,layer_name=layer_name,format_image=\"jpeg\",srs=\"EPSG:2154\"):\n",
    "    response = wms.getmap(\n",
    "    layers=[layer_name],\n",
    "    bbox=(Xmin, Ymin, Xmin+image_size, Ymin+image_size),\n",
    "    format=\"image/\" + format_image,\n",
    "    size=(image_size, image_size),\n",
    "    srs=srs,\n",
    "    transparent=True\n",
    "    )\n",
    "    return response\n",
    "\n",
    "def save_image(path,response):\n",
    "    with open(path, 'wb') as f:\n",
    "        f.write(response.read())"
   ]
  },
  {
   "cell_type": "code",
   "execution_count": 5,
   "metadata": {},
   "outputs": [],
   "source": [
    "rep = get_image(650000,6500000)\n",
    "save_image(\"H:/temp/test123.jpg\",rep)"
   ]
  },
  {
   "cell_type": "code",
   "execution_count": null,
   "metadata": {},
   "outputs": [],
   "source": []
  }
 ],
 "metadata": {
  "kernelspec": {
   "display_name": "Python 3",
   "language": "python",
   "name": "python3"
  },
  "language_info": {
   "codemirror_mode": {
    "name": "ipython",
    "version": 3
   },
   "file_extension": ".py",
   "mimetype": "text/x-python",
   "name": "python",
   "nbconvert_exporter": "python",
   "pygments_lexer": "ipython3",
   "version": "3.11.4"
  },
  "orig_nbformat": 4
 },
 "nbformat": 4,
 "nbformat_minor": 2
}
